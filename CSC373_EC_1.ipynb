{
  "cells": [
    {
      "cell_type": "markdown",
      "metadata": {
        "id": "view-in-github",
        "colab_type": "text"
      },
      "source": [
        "<a href=\"https://colab.research.google.com/github/javacatknight/beginnerLeetcodeSolutions/blob/main/CSC373_EC_1.ipynb\" target=\"_parent\"><img src=\"https://colab.research.google.com/assets/colab-badge.svg\" alt=\"Open In Colab\"/></a>"
      ]
    },
    {
      "cell_type": "markdown",
      "source": [
        "# Using Colab\n",
        "\n",
        "Colab is an online interface where you can write and run code similar to a Jupyter Notebook.\n",
        "\n",
        "To run a cell containing code - press the play button that appears on the left hand side of the cell when you mouse hovers over the cell.\n",
        "\n",
        "**If you want to save your progress**, you should first make a copy of this notebook, and work on the copy.\n",
        "\n",
        "First things first, run the next cell (which has code hidden) to set up some helper functions!"
      ],
      "metadata": {
        "id": "vWm3au6uLnga"
      },
      "id": "vWm3au6uLnga"
    },
    {
      "cell_type": "code",
      "execution_count": null,
      "id": "68ec6d3d-24a3-4df1-b693-d8c769907c30",
      "metadata": {
        "cellView": "form",
        "id": "68ec6d3d-24a3-4df1-b693-d8c769907c30"
      },
      "outputs": [],
      "source": [
        "# @title Run this cell to set up some helper functions\n",
        "import graphviz\n",
        "import plotly.express as px\n",
        "\n",
        "import random\n",
        "import itertools\n",
        "import timeit\n",
        "import plotly.graph_objects as go\n",
        "import plotly.io as pio\n",
        "import numpy as np\n",
        "from dataclasses import dataclass\n",
        "\n",
        "pio.templates.default = \"plotly_white\"\n",
        "\n",
        "def plot_tree(tree):\n",
        "    plot = graphviz.Digraph()\n",
        "    def traverse(t, id):\n",
        "        if t.left is not None:\n",
        "            left_id = 2*id\n",
        "            plot.node(str(left_id), str(t.left.value))\n",
        "            plot.edge(str(id), str(left_id) , \"0\")\n",
        "            traverse(t.left, left_id)\n",
        "        if t.right is not None:\n",
        "            right_id = 2*id + 1\n",
        "            plot.node(str(right_id), str(t.right.value))\n",
        "            plot.edge(str(id), str(right_id), \"1\")\n",
        "            traverse(t.right, right_id)\n",
        "    plot.node(\"1\", str(tree.value))\n",
        "    traverse(tree, 1)\n",
        "    return plot\n",
        "\n",
        "def get_random_points(n):\n",
        "    return [\n",
        "        Point(\n",
        "            random.uniform(0, 1),\n",
        "            random.uniform(0, 1),\n",
        "        )\n",
        "        for _ in range(n)\n",
        "    ]\n",
        "\n",
        "def plot_parts(parts, colors):\n",
        "    fig = go.Figure()\n",
        "    for points, c in zip(parts, colors):\n",
        "        xs = [p.x for p in points]\n",
        "        ys = [p.y for p in points]\n",
        "        fig.add_trace(go.Scatter(x=xs, y=ys, mode=\"markers\", marker=dict(color=c)))\n",
        "    fig.update_layout(\n",
        "        width=800, height=800, showlegend=False\n",
        "    )\n",
        "    fig.update_xaxes(range=[-0.1,1.1])\n",
        "    fig.update_yaxes(range=[-0.1,1.1])\n",
        "    return fig\n",
        "\n",
        "def plot_points(points):\n",
        "    return plot_parts([points], ['blue'])\n",
        "\n",
        "def plot_points_and_closest(points, closest):\n",
        "    return plot_parts([points, closest], ['blue', 'red'])\n",
        "\n",
        "def time(function, input, number):\n",
        "    return timeit.timeit(lambda: function(input), number=number)\n",
        "\n",
        "def compare_function_plot(functions, input_generator, sizes, number=5):\n",
        "    fig = go.Figure()\n",
        "    inputs = [input_generator(s) for s in sizes]\n",
        "    for f in functions:\n",
        "        name = f.__name__\n",
        "        vals = [time(f, i, number) for i in inputs]\n",
        "        fig.add_trace(go.Scatter(x=sizes, y=vals, name=name))\n",
        "    fig.update_xaxes(title_text=\"Input Size\")\n",
        "    fig.update_yaxes(title_text=\"Time\")\n",
        "    return fig"
      ]
    },
    {
      "cell_type": "markdown",
      "id": "01ddd367-78ec-4494-942b-065fb19538d7",
      "metadata": {
        "id": "01ddd367-78ec-4494-942b-065fb19538d7"
      },
      "source": [
        "# Huffman Coding\n",
        "\n",
        "In the first part, we will implement Huffman Coding.\n",
        "1. The cell below contains some text that we will use to learn the encoding - the content of the text is **not** important.\n",
        "2. `preprocess(text)` converts `text` into lowercase, and keeps only characters from the alphabet, space, comma, period, and dash. We are doing this to make the tree less cluttered when we visualize it later. You can return to this cell later and remove the preprocessing step to get an encoding that covers more punctuation, numbers and uppercase letters if you want.\n"
      ]
    },
    {
      "cell_type": "code",
      "execution_count": null,
      "id": "b78fbb65-9b36-4f32-88bf-926874d3cfea",
      "metadata": {
        "id": "b78fbb65-9b36-4f32-88bf-926874d3cfea"
      },
      "outputs": [],
      "source": [
        "# text comes from https://en.wikipedia.org/wiki/Huffman_coding\n",
        "\n",
        "text = \"\"\"In 1951, David A. Huffman and his MIT information theory classmates were given the choice of a term paper or a final exam. The professor, Robert M. Fano, assigned a term paper on the problem of finding the most efficient binary code. Huffman, unable to prove any codes were the most efficient, was about to give up and start studying for the final when he hit upon the idea of using a frequency-sorted binary tree and quickly proved this method the most efficient.[jz]\n",
        "\n",
        "In doing so, Huffman outdid Fano, who had worked with Claude Shannon to develop a similar code. Building the tree from the bottom up guaranteed optimality, unlike the top-down approach of Shannon–Fano coding.\n",
        "\n",
        "Terminology\n",
        "Huffman coding uses a specific method for choosing the representation for each symbol, resulting in a prefix code (sometimes called \"prefix-free codes\", that is, the bit string representing some particular symbol is never a prefix of the bit string representing any other symbol). Huffman coding is such a widespread method for creating prefix codes that the term \"Huffman code\" is widely used as a synonym for \"prefix code\" even when such a code is not produced by Huffman's algorithm.\"\"\"\n",
        "\n",
        "def preprocess(text):\n",
        "    return \"\".join(x for x in text.lower() if x.isalpha() or x in \" .,-\")\n",
        "\n",
        "text = preprocess(text)\n",
        "print(text)"
      ]
    },
    {
      "cell_type": "markdown",
      "id": "e1ddac66-db77-438d-8035-c15480a3ef36",
      "metadata": {
        "id": "e1ddac66-db77-438d-8035-c15480a3ef36"
      },
      "source": [
        "The Counter object provided by Python conveniently counts the frequencies of each letter in `text`"
      ]
    },
    {
      "cell_type": "code",
      "execution_count": null,
      "id": "dda40181-8204-4cee-8642-106a66d4e6dd",
      "metadata": {
        "id": "dda40181-8204-4cee-8642-106a66d4e6dd"
      },
      "outputs": [],
      "source": [
        "from collections import Counter\n",
        "frequencies = Counter(text)\n",
        "frequencies"
      ]
    },
    {
      "cell_type": "code",
      "execution_count": null,
      "id": "39157bbe-81cd-4b64-a50f-09b2c345d09b",
      "metadata": {
        "id": "39157bbe-81cd-4b64-a50f-09b2c345d09b"
      },
      "outputs": [],
      "source": [
        "len(frequencies)"
      ]
    },
    {
      "cell_type": "markdown",
      "id": "b41f88d5-2e55-4135-8d36-19b73ed0aa75",
      "metadata": {
        "id": "b41f88d5-2e55-4135-8d36-19b73ed0aa75"
      },
      "source": [
        "The number of distinct characters to encode is 30 so a naive encoding can encode each letter as a sequence of 5 bits."
      ]
    },
    {
      "cell_type": "code",
      "execution_count": null,
      "id": "f008fcde-4b8a-4df0-bc29-fa7f544695b6",
      "metadata": {
        "id": "f008fcde-4b8a-4df0-bc29-fa7f544695b6",
        "cellView": "form"
      },
      "outputs": [],
      "source": [
        "# @title Run to visualize `frequencies`\n",
        "chars, freqs = zip(*reversed(sorted(frequencies.items(), key=lambda x:x[1])))\n",
        "fig = px.histogram(x=chars, y=freqs)\n",
        "fig.update_layout(\n",
        "    xaxis_title=\"Character\",\n",
        "    yaxis_title=\"Frequency\",\n",
        ")"
      ]
    },
    {
      "cell_type": "markdown",
      "id": "c9a425ad-b12f-4a5f-977e-5694a1fc90b6",
      "metadata": {
        "id": "c9a425ad-b12f-4a5f-977e-5694a1fc90b6"
      },
      "source": [
        "As one might expect, the distribution of the letters is not very uniform, with some letters like \"i\" and \"e\" occurring often and other letters like \"x\" and \"z\" occurring only a few times. Huffman coding exploits this variation to find a more efficient encoding."
      ]
    },
    {
      "cell_type": "markdown",
      "id": "b40f0edb-1e70-4654-8c3f-559225d18006",
      "metadata": {
        "id": "b40f0edb-1e70-4654-8c3f-559225d18006"
      },
      "source": [
        "**Task.** Implement the Huffman Coding algorithm described in lecture and apply it to the given text. To help you get started, here are a few definitions.\n",
        "\n",
        "**Binary Tree**\n",
        "* `BinaryTree(value, left, right)` defines a Binary Tree with label `value`, left child `left`, and right child `right`.\n",
        "* `left` (resp. `right`) should either be a `BinaryTree` object or `None`. `None` indicates that there is no left (resp. right) child.\n",
        "* If `tree` is a BinaryTree, then you can visualize it using `plot_tree(tree)`.\n",
        "\n",
        "**Priority Queues**\n",
        "* To add something to the priority queue do `q.put(PriortizedItem(priority, item))` where `priority` is the priority and `item` is the item you want to enqueue.\n",
        "* `q.get()` returns the PriortizedItem with the **smallest** priority\n",
        "* If `i` is a PrioritizedItem, you can extract the priority and the item itself with `i.priority`, and `i.item`\n"
      ]
    },
    {
      "cell_type": "code",
      "execution_count": null,
      "id": "52116459-66ee-4f79-af7d-c9dcbda0cb44",
      "metadata": {
        "id": "52116459-66ee-4f79-af7d-c9dcbda0cb44"
      },
      "outputs": [],
      "source": [
        "class BinaryTree:\n",
        "    def __init__(self, value, left, right):\n",
        "        self.value = value\n",
        "        self.left = left\n",
        "        self.right = right\n",
        "\n",
        "from dataclasses import dataclass, field\n",
        "from typing import Any\n",
        "\n",
        "# Reference: https://docs.python.org/3/library/queue.html#queue.PriorityQueue\n",
        "@dataclass(order=True)\n",
        "class PrioritizedItem:\n",
        "    priority: int\n",
        "    item: Any=field(compare=False)\n"
      ]
    },
    {
      "cell_type": "markdown",
      "id": "a0c25cc0-119c-454b-a826-2ee344905a8b",
      "metadata": {
        "id": "a0c25cc0-119c-454b-a826-2ee344905a8b"
      },
      "source": [
        "Example usage of `BinaryTree`"
      ]
    },
    {
      "cell_type": "code",
      "execution_count": null,
      "id": "55182343-ddf1-464e-994f-04613555d801",
      "metadata": {
        "id": "55182343-ddf1-464e-994f-04613555d801"
      },
      "outputs": [],
      "source": [
        "l = BinaryTree(123, BinaryTree('leaf', None, None), None)\n",
        "r = BinaryTree(321, None, None) # leaf\n",
        "p = BinaryTree(\"example\", l, r)\n",
        "plot_tree(p)"
      ]
    },
    {
      "cell_type": "code",
      "execution_count": null,
      "id": "7317e601-e868-42d5-b476-32e909ce0fea",
      "metadata": {
        "id": "7317e601-e868-42d5-b476-32e909ce0fea"
      },
      "outputs": [],
      "source": [
        "plot_tree(p.left)"
      ]
    },
    {
      "cell_type": "markdown",
      "id": "6563e732-0216-49c4-8a08-68f245f86783",
      "metadata": {
        "id": "6563e732-0216-49c4-8a08-68f245f86783"
      },
      "source": [
        "Example usage of PriorityQueue"
      ]
    },
    {
      "cell_type": "code",
      "execution_count": null,
      "id": "7acff2de-1134-4048-a2b3-5fcc8b7ddf06",
      "metadata": {
        "id": "7acff2de-1134-4048-a2b3-5fcc8b7ddf06"
      },
      "outputs": [],
      "source": [
        "import queue\n",
        "q = queue.PriorityQueue()\n",
        "q.put(PrioritizedItem(2, \"bigger\"))\n",
        "q.put(PrioritizedItem(1, \"smaller\"))\n",
        "smaller = q.get()\n",
        "bigger = q.get()\n",
        "print(smaller.item)\n",
        "print(bigger.item)"
      ]
    },
    {
      "cell_type": "markdown",
      "id": "47ee4b92-66fc-477c-9169-25c5138d13e1",
      "metadata": {
        "id": "47ee4b92-66fc-477c-9169-25c5138d13e1"
      },
      "source": [
        "## Task 1\n",
        "Find the encoding tree for `text` using the Huffman Coding Algorithm. Once you found it, plot the tree!"
      ]
    },
    {
      "cell_type": "code",
      "execution_count": null,
      "id": "06912e50-596e-4863-a5cd-267b97cb1d6e",
      "metadata": {
        "id": "06912e50-596e-4863-a5cd-267b97cb1d6e"
      },
      "outputs": [],
      "source": [
        "### YOUR CODE HERE\n",
        "\n",
        "###"
      ]
    },
    {
      "cell_type": "markdown",
      "id": "ef4cba51-69ac-494e-b0dd-8a07952765b0",
      "metadata": {
        "id": "ef4cba51-69ac-494e-b0dd-8a07952765b0"
      },
      "source": [
        "Call `extract_encoding` on your encoding tree to get a dictionary mapping characters to their encoding. Store the resulting dictionary in a variable called `encoding`"
      ]
    },
    {
      "cell_type": "code",
      "execution_count": null,
      "id": "c5cac1e3-db2e-4f95-ab10-dacd08313fd2",
      "metadata": {
        "id": "c5cac1e3-db2e-4f95-ab10-dacd08313fd2"
      },
      "outputs": [],
      "source": [
        "def extract_encoding(tree):\n",
        "    encoding = dict()\n",
        "    def _extract(t, s):\n",
        "        if t.left is None and t.right is None:\n",
        "            encoding[t.value] = s\n",
        "        if t.left is not None:\n",
        "            _extract(t.left, s + \"0\")\n",
        "        if t.right is not None:\n",
        "            _extract(t.right, s + \"1\")\n",
        "    _extract(tree, \"\")\n",
        "    return encoding\n",
        "\n",
        "encoding = extract_encoding(tree) # replace tree with variable storing your encoding tree\n",
        "print(encoding)"
      ]
    },
    {
      "cell_type": "markdown",
      "id": "bf9efca3-ee21-404f-90fa-8122062d9b1d",
      "metadata": {
        "id": "bf9efca3-ee21-404f-90fa-8122062d9b1d"
      },
      "source": [
        "Let's see how the this encoding compares with the naive encoding. First, let's compare it on the text we learned the encodings from in the first place."
      ]
    },
    {
      "cell_type": "code",
      "execution_count": null,
      "id": "aad91215-fd86-4bf5-a7f7-72d6359721ab",
      "metadata": {
        "scrolled": true,
        "id": "aad91215-fd86-4bf5-a7f7-72d6359721ab"
      },
      "outputs": [],
      "source": [
        "def encode(encoding, s):\n",
        "    return \"\".join([encoding[c] for c in s])\n",
        "\n",
        "def huffman_encoding_length(encoding, text):\n",
        "    return len(encode(encoding, text))\n",
        "\n",
        "def naive_encoding_length(text):\n",
        "    return len(text) * 5 # since there are 30 < 2^5 characters, the naive encoding uses 5 bits per character\n",
        "\n",
        "def compare_encoding_length(encoding, text):\n",
        "    print(\"Naive Encoding Length: \", naive_encoding_length(text))\n",
        "    print(\"Huffman Encoding Length: \", huffman_encoding_length(encoding, text))\n",
        "    print()\n",
        "\n",
        "compare_encoding_length(encoding, text)"
      ]
    },
    {
      "cell_type": "markdown",
      "id": "5c517b43-abb3-4206-a726-cd49d4bcd442",
      "metadata": {
        "id": "5c517b43-abb3-4206-a726-cd49d4bcd442"
      },
      "source": [
        "As you'd expect, Huffman is more efficient! Now, replace the following string with some other random text you can think of to compare the performance on new text!"
      ]
    },
    {
      "cell_type": "code",
      "execution_count": null,
      "id": "4f23632e-67d9-4ba0-b85c-3bd915d61bed",
      "metadata": {
        "id": "4f23632e-67d9-4ba0-b85c-3bd915d61bed"
      },
      "outputs": [],
      "source": [
        "compare_encoding_length(encoding, preprocess(\"Huffman Coding is awesome\"))"
      ]
    },
    {
      "cell_type": "markdown",
      "source": [
        "## How to submit\n",
        "Change `text` to some other text of your choosing. Run the Huffman algorithm again on that text.\n",
        "\n",
        "Submit a picture/screenshot of the encoding tree that you get and report the naive encoding length and Huffman encoding length."
      ],
      "metadata": {
        "id": "hi-wLgcQdWUc"
      },
      "id": "hi-wLgcQdWUc"
    },
    {
      "cell_type": "markdown",
      "id": "7fe356d1-24b2-43d8-b9a9-8881ffb52b27",
      "metadata": {
        "id": "7fe356d1-24b2-43d8-b9a9-8881ffb52b27"
      },
      "source": [
        "## Question\n",
        "Is the Huffman encoding always shorter than the naive encoding?"
      ]
    },
    {
      "cell_type": "markdown",
      "id": "f8198491-acb7-490a-bf39-aa41978894c5",
      "metadata": {
        "id": "f8198491-acb7-490a-bf39-aa41978894c5"
      },
      "source": [
        "# Closest Pair"
      ]
    },
    {
      "cell_type": "markdown",
      "id": "13461d49-816f-4824-8e69-67ec41694c89",
      "metadata": {
        "id": "13461d49-816f-4824-8e69-67ec41694c89"
      },
      "source": [
        "In this part - we'll implement the closest pair of points in $\\mathbb{R}^2$ algorithm from week 1.\n",
        "\n",
        "Below we provide a `Point` object, as well as a function to calculate the distance between two points."
      ]
    },
    {
      "cell_type": "code",
      "execution_count": null,
      "id": "4e2a1d20-f038-496b-bb68-628409f70790",
      "metadata": {
        "id": "4e2a1d20-f038-496b-bb68-628409f70790"
      },
      "outputs": [],
      "source": [
        "@dataclass\n",
        "class Point:\n",
        "    x: float\n",
        "    y: float\n",
        "\n",
        "def distance(p1, p2):\n",
        "    x1, y1 = p1.x, p1.y\n",
        "    x2, y2 = p2.x, p2.y\n",
        "    return ((x1 - x2) ** 2 + (y1 - y2) ** 2) ** 0.5"
      ]
    },
    {
      "cell_type": "markdown",
      "id": "ee2dfff9-3caf-4fa8-8ec2-cdf522901e4f",
      "metadata": {
        "id": "ee2dfff9-3caf-4fa8-8ec2-cdf522901e4f"
      },
      "source": [
        "Here is some example usage, including how to\n",
        "* Declare points\n",
        "* Access coordinates\n",
        "* Compute the distance"
      ]
    },
    {
      "cell_type": "code",
      "execution_count": null,
      "id": "7219b400-6879-43f2-bc48-1cd1ec501eb5",
      "metadata": {
        "id": "7219b400-6879-43f2-bc48-1cd1ec501eb5"
      },
      "outputs": [],
      "source": [
        "p1 = Point(2, 3)\n",
        "p2 = Point(3, 9)\n",
        "print(p1)\n",
        "print(p1.x)\n",
        "print(p2.y)\n",
        "print(distance(p1, p2))"
      ]
    },
    {
      "cell_type": "markdown",
      "id": "b1f36bde-f2db-4adc-885e-278125aae52c",
      "metadata": {
        "id": "b1f36bde-f2db-4adc-885e-278125aae52c"
      },
      "source": [
        "Let's work with a random collection of points"
      ]
    },
    {
      "cell_type": "code",
      "execution_count": null,
      "id": "6f722204-2ead-43c7-9476-9ff38a0727d8",
      "metadata": {
        "id": "6f722204-2ead-43c7-9476-9ff38a0727d8"
      },
      "outputs": [],
      "source": [
        "points = get_random_points(50)\n",
        "plot_points(points)"
      ]
    },
    {
      "cell_type": "markdown",
      "id": "d806c03d-0cec-4547-8b75-caa0940f34c1",
      "metadata": {
        "id": "d806c03d-0cec-4547-8b75-caa0940f34c1"
      },
      "source": [
        "Here is a brute force algorithm - it enumerates all pairs of points. You can use this to check your solution for correctness. It will also be fun later to compare the runtime of the divide and conquer algorithm with this one."
      ]
    },
    {
      "cell_type": "code",
      "execution_count": null,
      "id": "3ad605e3-c4b2-48c0-8981-5862a2d8abc2",
      "metadata": {
        "id": "3ad605e3-c4b2-48c0-8981-5862a2d8abc2"
      },
      "outputs": [],
      "source": [
        "def closest_pair_brute_force(points):\n",
        "    \"\"\"Finds the closest pair\n",
        "\n",
        "    Args:\n",
        "        points (list): a list of points in R^2\n",
        "\n",
        "    Returns: (pair, d)\n",
        "        pair (list): is a list of two points with the smallest distance\n",
        "        d (float): the smallest distance\n",
        "    \"\"\"\n",
        "    distances = [distance(*pair) for pair in itertools.combinations(points, 2)]\n",
        "    return min(zip(itertools.combinations(points, 2), distances), key=lambda t: t[1])\n",
        "\n",
        "closest, dist = closest_pair_brute_force(points)\n",
        "plot_points_and_closest(points, closest)"
      ]
    },
    {
      "cell_type": "markdown",
      "id": "e82e97b7-cea3-4b64-859c-850fafefaca8",
      "metadata": {
        "id": "e82e97b7-cea3-4b64-859c-850fafefaca8"
      },
      "source": [
        "## Task 2\n",
        "Implement the closest pair divide and conquer algorithm below. Feel free to refer back to the slides! Your function should have the inputs and outputs as specifed in the docstring - i.e. it should have the same inputs and outputs as the brute force algorithm."
      ]
    },
    {
      "cell_type": "code",
      "execution_count": null,
      "id": "fdbcfcaf-95ac-4ccd-9a1b-729e57591c2d",
      "metadata": {
        "id": "fdbcfcaf-95ac-4ccd-9a1b-729e57591c2d"
      },
      "outputs": [],
      "source": [
        "def closest_pair(points):\n",
        "    \"\"\"Finds the closest pair\n",
        "\n",
        "    Args:\n",
        "        points (list): a list of points in R^2\n",
        "\n",
        "    Returns: (pair, d)\n",
        "        pair (list): is a list of two points with the smallest distance\n",
        "        d (float): the smallest distance\n",
        "    \"\"\"\n",
        "    ### YOUR CODE HERE\n",
        "    pass\n",
        "    ###\n",
        "\n",
        "closest_pair(points)"
      ]
    },
    {
      "cell_type": "code",
      "execution_count": null,
      "id": "44349eea-987d-4e80-8465-200d637f87b0",
      "metadata": {
        "id": "44349eea-987d-4e80-8465-200d637f87b0"
      },
      "outputs": [],
      "source": [
        "plot_points_and_closest(points, closest_pair(points)[0])"
      ]
    },
    {
      "cell_type": "markdown",
      "id": "2b4c28dc-2294-4c25-bf4e-9bcd1d2b6628",
      "metadata": {
        "id": "2b4c28dc-2294-4c25-bf4e-9bcd1d2b6628"
      },
      "source": [
        "Optional: Run the next cell to compare the runtime of the divide and conquer algorithm and the brute force algorithm (it might take some time to run)"
      ]
    },
    {
      "cell_type": "code",
      "execution_count": null,
      "id": "b6df6683-1e86-4f9d-8706-84cb0e42dfd2",
      "metadata": {
        "id": "b6df6683-1e86-4f9d-8706-84cb0e42dfd2"
      },
      "outputs": [],
      "source": [
        "compare_function_plot(\n",
        "    [closest_pair, closest_pair_brute_force],\n",
        "    get_random_points,\n",
        "    list(range(2, 1000, 50)),\n",
        ")"
      ]
    },
    {
      "cell_type": "markdown",
      "id": "d4480fa1-6bb7-42b5-8c4b-8797c2e2ab54",
      "metadata": {
        "id": "d4480fa1-6bb7-42b5-8c4b-8797c2e2ab54"
      },
      "source": [
        "Let's try it with more points! Note that in the plots below you can zoom into a box by clicking and dragging with your mouse."
      ]
    },
    {
      "cell_type": "code",
      "execution_count": null,
      "id": "c153ffcb-7b9d-4e98-a50c-5045d5741445",
      "metadata": {
        "id": "c153ffcb-7b9d-4e98-a50c-5045d5741445"
      },
      "outputs": [],
      "source": [
        "random.seed(a=\"replace with your groups UTorIDs\", version=2)\n",
        "many_points = get_random_points(50000)\n",
        "plot_points(many_points)"
      ]
    },
    {
      "cell_type": "code",
      "execution_count": null,
      "id": "9fb12bee-c6a1-460b-b57e-004584882643",
      "metadata": {
        "id": "9fb12bee-c6a1-460b-b57e-004584882643"
      },
      "outputs": [],
      "source": [
        "closest, dist = closest_pair(many_points)\n",
        "plot_points_and_closest(many_points, closest)"
      ]
    },
    {
      "cell_type": "code",
      "execution_count": null,
      "id": "737f7edb-0134-4dd3-91f5-f31df539faaa",
      "metadata": {
        "id": "737f7edb-0134-4dd3-91f5-f31df539faaa"
      },
      "outputs": [],
      "source": [
        "print(closest, dist)"
      ]
    },
    {
      "cell_type": "markdown",
      "source": [
        "## How to submit\n",
        "Change the seed to your groups UTorIDs and submit screenshots of the previous three cells with their outputs"
      ],
      "metadata": {
        "id": "l6eJXnsMefRK"
      },
      "id": "l6eJXnsMefRK"
    }
  ],
  "metadata": {
    "kernelspec": {
      "display_name": "Python 3 (ipykernel)",
      "language": "python",
      "name": "python3"
    },
    "language_info": {
      "codemirror_mode": {
        "name": "ipython",
        "version": 3
      },
      "file_extension": ".py",
      "mimetype": "text/x-python",
      "name": "python",
      "nbconvert_exporter": "python",
      "pygments_lexer": "ipython3",
      "version": "3.12.0"
    },
    "colab": {
      "provenance": [],
      "include_colab_link": true
    }
  },
  "nbformat": 4,
  "nbformat_minor": 5
}